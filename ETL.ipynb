{
  "nbformat": 4,
  "nbformat_minor": 0,
  "metadata": {
    "colab": {
      "provenance": []
    },
    "kernelspec": {
      "name": "python3",
      "display_name": "Python 3"
    },
    "language_info": {
      "name": "python"
    }
  },
  "cells": [
    {
      "cell_type": "code",
      "execution_count": null,
      "metadata": {
        "id": "ETuAO2Vl8Noz"
      },
      "outputs": [],
      "source": [
      
        "\n",
        "import pandas as pd\n",
        "\n",
        "# Read the data from the CSV file\n",
        "data = pd.read_csv('/content/sample_data/california_housing_test.csv')\n",
        "\n",
        "# Print the first five rows of the data\n",
        "data.head()\n",
        "\n",
        "# Print the summary statistics of the data\n",
        "data.describe()\n",
        "\n",
        "# Plot the distribution of the median income\n",
        "data['median_income'].hist()\n",
        "\n",
        "# Calculate the correlation between the median income and the median house value\n",
        "data['median_income'].corr(data['median_house_value'])\n"
      ]
    }
  ]
}
